{
  "nbformat": 4,
  "nbformat_minor": 0,
  "metadata": {
    "colab": {
      "provenance": []
    },
    "kernelspec": {
      "name": "python3",
      "display_name": "Python 3"
    },
    "language_info": {
      "name": "python"
    }
  },
  "cells": [
    {
      "cell_type": "markdown",
      "source": [
        "## 進行資料前處理 (Preprocess)"
      ],
      "metadata": {
        "id": "XFs8ZWUotd02"
      }
    },
    {
      "cell_type": "markdown",
      "source": [
        "STEP1. 資料讀取與轉換"
      ],
      "metadata": {
        "id": "qWWwMJbxtgnu"
      }
    },
    {
      "cell_type": "code",
      "execution_count": 1,
      "metadata": {
        "colab": {
          "base_uri": "https://localhost:8080/"
        },
        "id": "8VUsEtJGs2uc",
        "outputId": "613c570e-8fcc-4ca1-d260-1d81d50e5401"
      },
      "outputs": [
        {
          "output_type": "stream",
          "name": "stdout",
          "text": [
            "Downloading data from https://storage.googleapis.com/tensorflow/tf-keras-datasets/mnist.npz\n",
            "11490434/11490434 [==============================] - 0s 0us/step\n"
          ]
        }
      ],
      "source": [
        "from keras.datasets import mnist\n",
        "from keras.utils import np_utils\n",
        "import numpy as np\n",
        "\n",
        "np.random.seed(10)\n",
        "\n",
        "# Read MNIST data\n",
        "(X_Train, y_Train), (X_Test, y_Test) = mnist.load_data()\n",
        "\n",
        "# Translation of data\n",
        "X_Train4D = X_Train.reshape(X_Train.shape[0], 28, 28, 1).astype('float32')\n",
        "X_Test4D = X_Test.reshape(X_Test.shape[0], 28, 28, 1).astype('float32')"
      ]
    },
    {
      "cell_type": "markdown",
      "source": [
        "STEP2. 將 Features 進行標準化與 Label 的 Onehot encoding"
      ],
      "metadata": {
        "id": "9yrRwpshtj2u"
      }
    },
    {
      "cell_type": "code",
      "source": [
        "# Standardize feature data\n",
        "X_Train4D_norm = X_Train4D / 255\n",
        "X_Test4D_norm = X_Test4D /255\n",
        "\n",
        "# Label Onehot-encoding\n",
        "y_TrainOneHot = np_utils.to_categorical(y_Train)\n",
        "y_TestOneHot = np_utils.to_categorical(y_Test)"
      ],
      "metadata": {
        "id": "45FqfQ4hs863"
      },
      "execution_count": 2,
      "outputs": []
    },
    {
      "cell_type": "markdown",
      "source": [
        "## 建立模型(卷積神經網絡 CNN)"
      ],
      "metadata": {
        "id": "GQtfml79tmyU"
      }
    },
    {
      "cell_type": "markdown",
      "source": [
        "STEP1. 建立卷積層與池化層"
      ],
      "metadata": {
        "id": "QNUguNoPtoFV"
      }
    },
    {
      "cell_type": "code",
      "source": [
        "from keras.models import Sequential\n",
        "from keras.layers import Dense,Dropout,Flatten,Conv2D,MaxPool2D\n",
        "\n",
        "model = Sequential()\n",
        "# Create CN layer 1\n",
        "model.add(Conv2D(filters=16,\n",
        "                 kernel_size=(5,5),\n",
        "                 padding='same',\n",
        "                 input_shape=(28,28,1),\n",
        "                 activation='relu',\n",
        "                 name='conv2d_1'))\n",
        "# Create Max-Pool 1\n",
        "model.add(MaxPool2D(pool_size=(2,2), name='max_pooling2d_1'))\n",
        "\n",
        "# Create CN layer 2\n",
        "model.add(Conv2D(filters=36,\n",
        "                 kernel_size=(5,5),\n",
        "                 padding='same',\n",
        "                 input_shape=(28,28,1),\n",
        "                 activation='relu',\n",
        "                 name='conv2d_2'))\n",
        "\n",
        "# Create Max-Pool 2\n",
        "model.add(MaxPool2D(pool_size=(2,2), name='max_pooling2d_2'))\n",
        "\n",
        "# Add Dropout layer\n",
        "model.add(Dropout(0.25, name='dropout_1'))"
      ],
      "metadata": {
        "id": "yB5SWxpCs-8_"
      },
      "execution_count": 3,
      "outputs": []
    },
    {
      "cell_type": "markdown",
      "source": [
        "STEP2. 建立神經網路"
      ],
      "metadata": {
        "id": "K30cvSIQttad"
      }
    },
    {
      "cell_type": "code",
      "source": [
        "model.add(Flatten(name='flatten_1'))\n",
        "\n",
        "model.add(Dense(128, activation='relu', name='dense_1'))\n",
        "model.add(Dropout(0.5, name='dropout_2'))\n",
        "\n",
        "model.add(Dense(10, activation='softmax', name='dense_2'))\n",
        "\n",
        "model.summary()\n",
        "print(\"\")"
      ],
      "metadata": {
        "colab": {
          "base_uri": "https://localhost:8080/"
        },
        "id": "4TxQAwSrtApO",
        "outputId": "d1a4a36a-c311-49ad-bc51-3fe1e861af7f"
      },
      "execution_count": 4,
      "outputs": [
        {
          "output_type": "stream",
          "name": "stdout",
          "text": [
            "Model: \"sequential\"\n",
            "_________________________________________________________________\n",
            " Layer (type)                Output Shape              Param #   \n",
            "=================================================================\n",
            " conv2d_1 (Conv2D)           (None, 28, 28, 16)        416       \n",
            "                                                                 \n",
            " max_pooling2d_1 (MaxPooling  (None, 14, 14, 16)       0         \n",
            " 2D)                                                             \n",
            "                                                                 \n",
            " conv2d_2 (Conv2D)           (None, 14, 14, 36)        14436     \n",
            "                                                                 \n",
            " max_pooling2d_2 (MaxPooling  (None, 7, 7, 36)         0         \n",
            " 2D)                                                             \n",
            "                                                                 \n",
            " dropout_1 (Dropout)         (None, 7, 7, 36)          0         \n",
            "                                                                 \n",
            " flatten_1 (Flatten)         (None, 1764)              0         \n",
            "                                                                 \n",
            " dense_1 (Dense)             (None, 128)               225920    \n",
            "                                                                 \n",
            " dropout_2 (Dropout)         (None, 128)               0         \n",
            "                                                                 \n",
            " dense_2 (Dense)             (None, 10)                1290      \n",
            "                                                                 \n",
            "=================================================================\n",
            "Total params: 242,062\n",
            "Trainable params: 242,062\n",
            "Non-trainable params: 0\n",
            "_________________________________________________________________\n",
            "\n"
          ]
        }
      ]
    },
    {
      "cell_type": "markdown",
      "source": [
        "## 進行訓練"
      ],
      "metadata": {
        "id": "V5ZkEVSgtx24"
      }
    },
    {
      "cell_type": "markdown",
      "source": [
        "STEP1. 定義訓練並進行訓練"
      ],
      "metadata": {
        "id": "6f9WK2jTtyz1"
      }
    },
    {
      "cell_type": "code",
      "source": [
        "# 定義訓練方式\n",
        "model.compile(loss='categorical_crossentropy', optimizer='adam', metrics=['accuracy'])\n",
        "\n",
        "# 開始訓練\n",
        "train_history = model.fit(x=X_Train4D_norm,\n",
        "                          y=y_TrainOneHot, validation_split=0.2,\n",
        "                          epochs=10, batch_size=300, verbose=1)"
      ],
      "metadata": {
        "colab": {
          "base_uri": "https://localhost:8080/"
        },
        "id": "oRHc9pNutIyd",
        "outputId": "a90b8f23-962f-461d-aea4-3eb33bbd364c"
      },
      "execution_count": 5,
      "outputs": [
        {
          "output_type": "stream",
          "name": "stdout",
          "text": [
            "Epoch 1/10\n",
            "160/160 [==============================] - 82s 496ms/step - loss: 0.4764 - accuracy: 0.8508 - val_loss: 0.1041 - val_accuracy: 0.9682\n",
            "Epoch 2/10\n",
            "160/160 [==============================] - 79s 493ms/step - loss: 0.1342 - accuracy: 0.9609 - val_loss: 0.0626 - val_accuracy: 0.9817\n",
            "Epoch 3/10\n",
            "160/160 [==============================] - 78s 487ms/step - loss: 0.0966 - accuracy: 0.9714 - val_loss: 0.0520 - val_accuracy: 0.9839\n",
            "Epoch 4/10\n",
            "160/160 [==============================] - 72s 451ms/step - loss: 0.0803 - accuracy: 0.9764 - val_loss: 0.0474 - val_accuracy: 0.9864\n",
            "Epoch 5/10\n",
            "160/160 [==============================] - 64s 398ms/step - loss: 0.0693 - accuracy: 0.9801 - val_loss: 0.0469 - val_accuracy: 0.9859\n",
            "Epoch 6/10\n",
            "160/160 [==============================] - 65s 404ms/step - loss: 0.0594 - accuracy: 0.9818 - val_loss: 0.0387 - val_accuracy: 0.9887\n",
            "Epoch 7/10\n",
            "160/160 [==============================] - 66s 412ms/step - loss: 0.0546 - accuracy: 0.9837 - val_loss: 0.0422 - val_accuracy: 0.9870\n",
            "Epoch 8/10\n",
            "160/160 [==============================] - 64s 403ms/step - loss: 0.0491 - accuracy: 0.9851 - val_loss: 0.0383 - val_accuracy: 0.9894\n",
            "Epoch 9/10\n",
            "160/160 [==============================] - 62s 391ms/step - loss: 0.0454 - accuracy: 0.9857 - val_loss: 0.0335 - val_accuracy: 0.9901\n",
            "Epoch 10/10\n",
            "160/160 [==============================] - 65s 406ms/step - loss: 0.0408 - accuracy: 0.9876 - val_loss: 0.0318 - val_accuracy: 0.9906\n"
          ]
        }
      ]
    },
    {
      "cell_type": "markdown",
      "source": [
        "STEP2. 畫出 accuracy 執行結果"
      ],
      "metadata": {
        "id": "jyvfIRhXt3iq"
      }
    },
    {
      "cell_type": "code",
      "source": [
        "import matplotlib.pyplot as plt\n",
        "def plot_image(image):\n",
        "    fig = plt.gcf()\n",
        "    fig.set_size_inches(2,2)\n",
        "    plt.imshow(image, cmap='binary')\n",
        "    plt.show()\n",
        "\n",
        "def plot_images_labels_predict(images, labels, prediction, idx, num=10):\n",
        "    fig = plt.gcf()\n",
        "    fig.set_size_inches(12, 14)\n",
        "    if num > 25: num = 25\n",
        "    for i in range(0, num):\n",
        "        ax=plt.subplot(5,5, 1+i)\n",
        "        ax.imshow(images[idx], cmap='binary')\n",
        "        title = \"l=\" + str(labels[idx])\n",
        "        if len(prediction) > 0:\n",
        "            title = \"l={},p={}\".format(str(labels[idx]), str(prediction[idx]))\n",
        "        else:\n",
        "            title = \"l={}\".format(str(labels[idx]))\n",
        "        ax.set_title(title, fontsize=10)\n",
        "        ax.set_xticks([]); ax.set_yticks([])\n",
        "        idx+=1\n",
        "    plt.show()\n",
        "\n",
        "def show_train_history(train_history, train, validation):\n",
        "    plt.plot(train_history.history[train])\n",
        "    plt.plot(train_history.history[validation])\n",
        "    plt.title('Train History')\n",
        "    plt.ylabel(train)\n",
        "    plt.xlabel('Epoch')\n",
        "    plt.legend(['train', 'validation'], loc='upper left')\n",
        "    plt.show()"
      ],
      "metadata": {
        "id": "Iq076nX3tKkF"
      },
      "execution_count": 6,
      "outputs": []
    },
    {
      "cell_type": "code",
      "source": [
        "show_train_history(train_history, 'accuracy', 'val_accuracy')"
      ],
      "metadata": {
        "colab": {
          "base_uri": "https://localhost:8080/",
          "height": 472
        },
        "id": "gePB121YtM8l",
        "outputId": "68e81600-ac2f-4568-deb8-bc4739b83ec4"
      },
      "execution_count": 8,
      "outputs": [
        {
          "output_type": "display_data",
          "data": {
            "text/plain": [
              "<Figure size 640x480 with 1 Axes>"
            ],
            "image/png": "[encoded data removed]"
          },
          "metadata": {}
        }
      ]
    },
    {
      "cell_type": "code",
      "source": [
        "show_train_history(train_history, 'loss', 'val_loss')"
      ],
      "metadata": {
        "colab": {
          "base_uri": "https://localhost:8080/",
          "height": 472
        },
        "id": "0pk4xMF4tOcH",
        "outputId": "1bae2987-2acb-42fa-99c4-b2d7aa82d4d8"
      },
      "execution_count": 9,
      "outputs": [
        {
          "output_type": "display_data",
          "data": {
            "text/plain": [
              "<Figure size 640x480 with 1 Axes>"
            ],
            "image/png": "[encoded data removed]"
          },
          "metadata": {}
        }
      ]
    },
    {
      "cell_type": "markdown",
      "source": [
        "## 評估模型準確率與進行預測"
      ],
      "metadata": {
        "id": "45hL3qp2t6BB"
      }
    },
    {
      "cell_type": "markdown",
      "source": [
        "STEP1. 評估模型準確率"
      ],
      "metadata": {
        "id": "yr7p9mwCt9BO"
      }
    },
    {
      "cell_type": "code",
      "source": [
        "scores = model.evaluate(X_Test4D_norm, y_TestOneHot)\n",
        "print()\n",
        "print(\"\\t[Info] Accuracy of testing data = {:2.1f}%\".format(scores[1]*100.0))"
      ],
      "metadata": {
        "colab": {
          "base_uri": "https://localhost:8080/"
        },
        "id": "XCVbg3nFtQAt",
        "outputId": "84d3ccfa-cbc9-47e8-e7ab-193c4227a995"
      },
      "execution_count": 10,
      "outputs": [
        {
          "output_type": "stream",
          "name": "stdout",
          "text": [
            "313/313 [==============================] - 7s 20ms/step - loss: 0.0224 - accuracy: 0.9925\n",
            "\n",
            "\t[Info] Accuracy of testing data = 99.3%\n"
          ]
        }
      ]
    },
    {
      "cell_type": "markdown",
      "source": [
        "STEP2. 預測結果"
      ],
      "metadata": {
        "id": "tjQrJa6Pt-re"
      }
    },
    {
      "cell_type": "code",
      "source": [
        "print(\"\\t[Info] Making prediction of X_Test4D_norm\")\n",
        "# Making prediction and save result to prediction\n",
        "\n",
        "predict_x = model.predict(X_Test4D_norm)\n",
        "classes_x = np.argmax(predict_x,axis=1)\n",
        "\n",
        "print()\n",
        "print(\"\\t[Info] Show 10 prediction result (From 240):\")\n",
        "print(\"%s\\n\" % (classes_x[240:250]))"
      ],
      "metadata": {
        "colab": {
          "base_uri": "https://localhost:8080/"
        },
        "id": "fsFWcc1qtRfN",
        "outputId": "3389a80c-bbab-4917-f51b-9d064e543305"
      },
      "execution_count": 12,
      "outputs": [
        {
          "output_type": "stream",
          "name": "stdout",
          "text": [
            "\t[Info] Making prediction of X_Test4D_norm\n",
            "313/313 [==============================] - 5s 14ms/step\n",
            "\n",
            "\t[Info] Show 10 prediction result (From 240):\n",
            "[5 9 8 7 2 3 0 4 4 2]\n",
            "\n"
          ]
        }
      ]
    },
    {
      "cell_type": "markdown",
      "source": [
        "STEP3. 顯示前 10 筆預測結果"
      ],
      "metadata": {
        "id": "ViMFZ55EuAie"
      }
    },
    {
      "cell_type": "code",
      "source": [
        "plot_images_labels_predict(X_Test, y_Test, classes_x, idx=240)"
      ],
      "metadata": {
        "colab": {
          "base_uri": "https://localhost:8080/",
          "height": 439
        },
        "id": "ok2tnPpGtURd",
        "outputId": "8c5ba16d-5144-4ef4-85ae-e597d99aee7f"
      },
      "execution_count": 13,
      "outputs": [
        {
          "output_type": "display_data",
          "data": {
            "text/plain": [
              "<Figure size 1200x1400 with 10 Axes>"
            ],
            "image/png": "[encoded data removed]"
          },
          "metadata": {}
        }
      ]
    },
    {
      "cell_type": "code",
      "source": [],
      "metadata": {
        "id": "ZG1UVCXTtVtg"
      },
      "execution_count": null,
      "outputs": []
    }
  ]
}